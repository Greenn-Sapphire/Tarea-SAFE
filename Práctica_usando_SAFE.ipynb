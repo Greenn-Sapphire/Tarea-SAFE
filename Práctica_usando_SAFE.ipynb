{
  "nbformat": 4,
  "nbformat_minor": 0,
  "metadata": {
    "colab": {
      "provenance": []
    },
    "kernelspec": {
      "name": "python3",
      "display_name": "Python 3"
    },
    "language_info": {
      "name": "python"
    }
  },
  "cells": [
    {
      "cell_type": "markdown",
      "source": [
        "# Actividades a realizar\n",
        "* Evaluar la regresión logística vainilla en los conjuntos de prueba y train, indicar cuales son las\n",
        "conclusiones de su uso.\n",
        "\n",
        "* Evualar el modelo lineal, e indicar cuales son los problemas encontrados.\n",
        "\n",
        "* Implentar el método SAFE para transformar las variables y evaluar su desempeño.\n",
        "\n",
        "* Usar el modelo de bosque aleatorio supervisor flexible.\n",
        "\n",
        "* Transformar las variables como se indica en los dos ejemplos posteriores y luego evaluar la regresión logística basada en variables transformadas y justificar si se puede utilizar para predecir si se cancelará una reserva.\n",
        "\n",
        "#Instalación de librerias y librerias"
      ],
      "metadata": {
        "id": "QSx6E4UqddSN"
      }
    },
    {
      "cell_type": "code",
      "source": [
        "pip install safe-transformer"
      ],
      "metadata": {
        "colab": {
          "base_uri": "https://localhost:8080/"
        },
        "id": "b6VN_UtutYx6",
        "outputId": "9c9e8294-c8a4-47f7-eb70-7e27e4df5d15"
      },
      "execution_count": 1,
      "outputs": [
        {
          "output_type": "stream",
          "name": "stdout",
          "text": [
            "Looking in indexes: https://pypi.org/simple, https://us-python.pkg.dev/colab-wheels/public/simple/\n",
            "Requirement already satisfied: safe-transformer in /usr/local/lib/python3.9/dist-packages (0.0.5)\n",
            "Requirement already satisfied: sklearn in /usr/local/lib/python3.9/dist-packages (from safe-transformer) (0.0.post1)\n",
            "Requirement already satisfied: ruptures in /usr/local/lib/python3.9/dist-packages (from safe-transformer) (1.1.7)\n",
            "Requirement already satisfied: pandas in /usr/local/lib/python3.9/dist-packages (from safe-transformer) (1.4.4)\n",
            "Requirement already satisfied: numpy in /usr/local/lib/python3.9/dist-packages (from safe-transformer) (1.22.4)\n",
            "Requirement already satisfied: scipy in /usr/local/lib/python3.9/dist-packages (from safe-transformer) (1.10.1)\n",
            "Requirement already satisfied: kneed in /usr/local/lib/python3.9/dist-packages (from safe-transformer) (0.8.2)\n",
            "Requirement already satisfied: pytz>=2020.1 in /usr/local/lib/python3.9/dist-packages (from pandas->safe-transformer) (2022.7.1)\n",
            "Requirement already satisfied: python-dateutil>=2.8.1 in /usr/local/lib/python3.9/dist-packages (from pandas->safe-transformer) (2.8.2)\n",
            "Requirement already satisfied: six>=1.5 in /usr/local/lib/python3.9/dist-packages (from python-dateutil>=2.8.1->pandas->safe-transformer) (1.16.0)\n"
          ]
        }
      ]
    },
    {
      "cell_type": "code",
      "execution_count": 2,
      "metadata": {
        "id": "dH9EJW6zS9ns"
      },
      "outputs": [],
      "source": [
        "import pandas as pd\n",
        "import numpy as np\n",
        "\n",
        "from sklearn.ensemble import GradientBoostingRegressor\n",
        "from sklearn.model_selection import train_test_split\n",
        "from sklearn.linear_model import LogisticRegression\n",
        "from sklearn.compose import make_column_transformer\n",
        "from sklearn.ensemble import RandomForestClassifier\n",
        "from sklearn.linear_model import LinearRegression\n",
        "from sklearn.preprocessing import StandardScaler\n",
        "from sklearn.preprocessing import OneHotEncoder\n",
        "from SafeTransformer import SafeTransformer\n",
        "from sklearn.metrics import accuracy_score"
      ]
    },
    {
      "cell_type": "markdown",
      "source": [
        "#Exploración del dataset\n",
        "\n",
        "Contamos con dos conjuntos de datos los cuales pertenecen a las reservaciones de hoteles, por lo que a continuación veremos por encima cuantos registros tenemos, cuántos son nulos, los nombres de las columnas y el tipo de dato que tienen asignado."
      ],
      "metadata": {
        "id": "H-0c2F7qO7cr"
      }
    },
    {
      "cell_type": "code",
      "source": [
        "H1df = pd.read_csv('H1.csv')\n",
        "H2df = pd.read_csv('H2.csv')\n",
        "\n",
        "H1df = pd.concat([H1df, H2df])\n",
        "\n",
        "H1df.head()"
      ],
      "metadata": {
        "colab": {
          "base_uri": "https://localhost:8080/",
          "height": 300
        },
        "id": "HTvK6959TAiQ",
        "outputId": "e2b6e2e4-e7e5-46fa-bd9c-d8b76c39e36c"
      },
      "execution_count": 3,
      "outputs": [
        {
          "output_type": "execute_result",
          "data": {
            "text/plain": [
              "   IsCanceled  LeadTime  ArrivalDateYear ArrivalDateMonth  \\\n",
              "0           0       342             2015             July   \n",
              "1           0       737             2015             July   \n",
              "2           0         7             2015             July   \n",
              "3           0        13             2015             July   \n",
              "4           0        14             2015             July   \n",
              "\n",
              "   ArrivalDateWeekNumber  ArrivalDateDayOfMonth  StaysInWeekendNights  \\\n",
              "0                     27                      1                     0   \n",
              "1                     27                      1                     0   \n",
              "2                     27                      1                     0   \n",
              "3                     27                      1                     0   \n",
              "4                     27                      1                     0   \n",
              "\n",
              "   StaysInWeekNights  Adults  Children  ...      DepositType        Agent  \\\n",
              "0                  0       2       0.0  ...  No Deposit              NULL   \n",
              "1                  0       2       0.0  ...  No Deposit              NULL   \n",
              "2                  1       1       0.0  ...  No Deposit              NULL   \n",
              "3                  1       1       0.0  ...  No Deposit               304   \n",
              "4                  2       2       0.0  ...  No Deposit               240   \n",
              "\n",
              "       Company DaysInWaitingList CustomerType   ADR  RequiredCarParkingSpaces  \\\n",
              "0         NULL                 0    Transient   0.0                         0   \n",
              "1         NULL                 0    Transient   0.0                         0   \n",
              "2         NULL                 0    Transient  75.0                         0   \n",
              "3         NULL                 0    Transient  75.0                         0   \n",
              "4         NULL                 0    Transient  98.0                         0   \n",
              "\n",
              "   TotalOfSpecialRequests ReservationStatus ReservationStatusDate  \n",
              "0                       0         Check-Out            2015-07-01  \n",
              "1                       0         Check-Out            2015-07-01  \n",
              "2                       0         Check-Out            2015-07-02  \n",
              "3                       0         Check-Out            2015-07-02  \n",
              "4                       1         Check-Out            2015-07-03  \n",
              "\n",
              "[5 rows x 31 columns]"
            ],
            "text/html": [
              "\n",
              "  <div id=\"df-88b8b478-0c8d-4cf0-81ad-5e61cb748930\">\n",
              "    <div class=\"colab-df-container\">\n",
              "      <div>\n",
              "<style scoped>\n",
              "    .dataframe tbody tr th:only-of-type {\n",
              "        vertical-align: middle;\n",
              "    }\n",
              "\n",
              "    .dataframe tbody tr th {\n",
              "        vertical-align: top;\n",
              "    }\n",
              "\n",
              "    .dataframe thead th {\n",
              "        text-align: right;\n",
              "    }\n",
              "</style>\n",
              "<table border=\"1\" class=\"dataframe\">\n",
              "  <thead>\n",
              "    <tr style=\"text-align: right;\">\n",
              "      <th></th>\n",
              "      <th>IsCanceled</th>\n",
              "      <th>LeadTime</th>\n",
              "      <th>ArrivalDateYear</th>\n",
              "      <th>ArrivalDateMonth</th>\n",
              "      <th>ArrivalDateWeekNumber</th>\n",
              "      <th>ArrivalDateDayOfMonth</th>\n",
              "      <th>StaysInWeekendNights</th>\n",
              "      <th>StaysInWeekNights</th>\n",
              "      <th>Adults</th>\n",
              "      <th>Children</th>\n",
              "      <th>...</th>\n",
              "      <th>DepositType</th>\n",
              "      <th>Agent</th>\n",
              "      <th>Company</th>\n",
              "      <th>DaysInWaitingList</th>\n",
              "      <th>CustomerType</th>\n",
              "      <th>ADR</th>\n",
              "      <th>RequiredCarParkingSpaces</th>\n",
              "      <th>TotalOfSpecialRequests</th>\n",
              "      <th>ReservationStatus</th>\n",
              "      <th>ReservationStatusDate</th>\n",
              "    </tr>\n",
              "  </thead>\n",
              "  <tbody>\n",
              "    <tr>\n",
              "      <th>0</th>\n",
              "      <td>0</td>\n",
              "      <td>342</td>\n",
              "      <td>2015</td>\n",
              "      <td>July</td>\n",
              "      <td>27</td>\n",
              "      <td>1</td>\n",
              "      <td>0</td>\n",
              "      <td>0</td>\n",
              "      <td>2</td>\n",
              "      <td>0.0</td>\n",
              "      <td>...</td>\n",
              "      <td>No Deposit</td>\n",
              "      <td>NULL</td>\n",
              "      <td>NULL</td>\n",
              "      <td>0</td>\n",
              "      <td>Transient</td>\n",
              "      <td>0.0</td>\n",
              "      <td>0</td>\n",
              "      <td>0</td>\n",
              "      <td>Check-Out</td>\n",
              "      <td>2015-07-01</td>\n",
              "    </tr>\n",
              "    <tr>\n",
              "      <th>1</th>\n",
              "      <td>0</td>\n",
              "      <td>737</td>\n",
              "      <td>2015</td>\n",
              "      <td>July</td>\n",
              "      <td>27</td>\n",
              "      <td>1</td>\n",
              "      <td>0</td>\n",
              "      <td>0</td>\n",
              "      <td>2</td>\n",
              "      <td>0.0</td>\n",
              "      <td>...</td>\n",
              "      <td>No Deposit</td>\n",
              "      <td>NULL</td>\n",
              "      <td>NULL</td>\n",
              "      <td>0</td>\n",
              "      <td>Transient</td>\n",
              "      <td>0.0</td>\n",
              "      <td>0</td>\n",
              "      <td>0</td>\n",
              "      <td>Check-Out</td>\n",
              "      <td>2015-07-01</td>\n",
              "    </tr>\n",
              "    <tr>\n",
              "      <th>2</th>\n",
              "      <td>0</td>\n",
              "      <td>7</td>\n",
              "      <td>2015</td>\n",
              "      <td>July</td>\n",
              "      <td>27</td>\n",
              "      <td>1</td>\n",
              "      <td>0</td>\n",
              "      <td>1</td>\n",
              "      <td>1</td>\n",
              "      <td>0.0</td>\n",
              "      <td>...</td>\n",
              "      <td>No Deposit</td>\n",
              "      <td>NULL</td>\n",
              "      <td>NULL</td>\n",
              "      <td>0</td>\n",
              "      <td>Transient</td>\n",
              "      <td>75.0</td>\n",
              "      <td>0</td>\n",
              "      <td>0</td>\n",
              "      <td>Check-Out</td>\n",
              "      <td>2015-07-02</td>\n",
              "    </tr>\n",
              "    <tr>\n",
              "      <th>3</th>\n",
              "      <td>0</td>\n",
              "      <td>13</td>\n",
              "      <td>2015</td>\n",
              "      <td>July</td>\n",
              "      <td>27</td>\n",
              "      <td>1</td>\n",
              "      <td>0</td>\n",
              "      <td>1</td>\n",
              "      <td>1</td>\n",
              "      <td>0.0</td>\n",
              "      <td>...</td>\n",
              "      <td>No Deposit</td>\n",
              "      <td>304</td>\n",
              "      <td>NULL</td>\n",
              "      <td>0</td>\n",
              "      <td>Transient</td>\n",
              "      <td>75.0</td>\n",
              "      <td>0</td>\n",
              "      <td>0</td>\n",
              "      <td>Check-Out</td>\n",
              "      <td>2015-07-02</td>\n",
              "    </tr>\n",
              "    <tr>\n",
              "      <th>4</th>\n",
              "      <td>0</td>\n",
              "      <td>14</td>\n",
              "      <td>2015</td>\n",
              "      <td>July</td>\n",
              "      <td>27</td>\n",
              "      <td>1</td>\n",
              "      <td>0</td>\n",
              "      <td>2</td>\n",
              "      <td>2</td>\n",
              "      <td>0.0</td>\n",
              "      <td>...</td>\n",
              "      <td>No Deposit</td>\n",
              "      <td>240</td>\n",
              "      <td>NULL</td>\n",
              "      <td>0</td>\n",
              "      <td>Transient</td>\n",
              "      <td>98.0</td>\n",
              "      <td>0</td>\n",
              "      <td>1</td>\n",
              "      <td>Check-Out</td>\n",
              "      <td>2015-07-03</td>\n",
              "    </tr>\n",
              "  </tbody>\n",
              "</table>\n",
              "<p>5 rows × 31 columns</p>\n",
              "</div>\n",
              "      <button class=\"colab-df-convert\" onclick=\"convertToInteractive('df-88b8b478-0c8d-4cf0-81ad-5e61cb748930')\"\n",
              "              title=\"Convert this dataframe to an interactive table.\"\n",
              "              style=\"display:none;\">\n",
              "        \n",
              "  <svg xmlns=\"http://www.w3.org/2000/svg\" height=\"24px\"viewBox=\"0 0 24 24\"\n",
              "       width=\"24px\">\n",
              "    <path d=\"M0 0h24v24H0V0z\" fill=\"none\"/>\n",
              "    <path d=\"M18.56 5.44l.94 2.06.94-2.06 2.06-.94-2.06-.94-.94-2.06-.94 2.06-2.06.94zm-11 1L8.5 8.5l.94-2.06 2.06-.94-2.06-.94L8.5 2.5l-.94 2.06-2.06.94zm10 10l.94 2.06.94-2.06 2.06-.94-2.06-.94-.94-2.06-.94 2.06-2.06.94z\"/><path d=\"M17.41 7.96l-1.37-1.37c-.4-.4-.92-.59-1.43-.59-.52 0-1.04.2-1.43.59L10.3 9.45l-7.72 7.72c-.78.78-.78 2.05 0 2.83L4 21.41c.39.39.9.59 1.41.59.51 0 1.02-.2 1.41-.59l7.78-7.78 2.81-2.81c.8-.78.8-2.07 0-2.86zM5.41 20L4 18.59l7.72-7.72 1.47 1.35L5.41 20z\"/>\n",
              "  </svg>\n",
              "      </button>\n",
              "      \n",
              "  <style>\n",
              "    .colab-df-container {\n",
              "      display:flex;\n",
              "      flex-wrap:wrap;\n",
              "      gap: 12px;\n",
              "    }\n",
              "\n",
              "    .colab-df-convert {\n",
              "      background-color: #E8F0FE;\n",
              "      border: none;\n",
              "      border-radius: 50%;\n",
              "      cursor: pointer;\n",
              "      display: none;\n",
              "      fill: #1967D2;\n",
              "      height: 32px;\n",
              "      padding: 0 0 0 0;\n",
              "      width: 32px;\n",
              "    }\n",
              "\n",
              "    .colab-df-convert:hover {\n",
              "      background-color: #E2EBFA;\n",
              "      box-shadow: 0px 1px 2px rgba(60, 64, 67, 0.3), 0px 1px 3px 1px rgba(60, 64, 67, 0.15);\n",
              "      fill: #174EA6;\n",
              "    }\n",
              "\n",
              "    [theme=dark] .colab-df-convert {\n",
              "      background-color: #3B4455;\n",
              "      fill: #D2E3FC;\n",
              "    }\n",
              "\n",
              "    [theme=dark] .colab-df-convert:hover {\n",
              "      background-color: #434B5C;\n",
              "      box-shadow: 0px 1px 3px 1px rgba(0, 0, 0, 0.15);\n",
              "      filter: drop-shadow(0px 1px 2px rgba(0, 0, 0, 0.3));\n",
              "      fill: #FFFFFF;\n",
              "    }\n",
              "  </style>\n",
              "\n",
              "      <script>\n",
              "        const buttonEl =\n",
              "          document.querySelector('#df-88b8b478-0c8d-4cf0-81ad-5e61cb748930 button.colab-df-convert');\n",
              "        buttonEl.style.display =\n",
              "          google.colab.kernel.accessAllowed ? 'block' : 'none';\n",
              "\n",
              "        async function convertToInteractive(key) {\n",
              "          const element = document.querySelector('#df-88b8b478-0c8d-4cf0-81ad-5e61cb748930');\n",
              "          const dataTable =\n",
              "            await google.colab.kernel.invokeFunction('convertToInteractive',\n",
              "                                                     [key], {});\n",
              "          if (!dataTable) return;\n",
              "\n",
              "          const docLinkHtml = 'Like what you see? Visit the ' +\n",
              "            '<a target=\"_blank\" href=https://colab.research.google.com/notebooks/data_table.ipynb>data table notebook</a>'\n",
              "            + ' to learn more about interactive tables.';\n",
              "          element.innerHTML = '';\n",
              "          dataTable['output_type'] = 'display_data';\n",
              "          await google.colab.output.renderOutput(dataTable, element);\n",
              "          const docLink = document.createElement('div');\n",
              "          docLink.innerHTML = docLinkHtml;\n",
              "          element.appendChild(docLink);\n",
              "        }\n",
              "      </script>\n",
              "    </div>\n",
              "  </div>\n",
              "  "
            ]
          },
          "metadata": {},
          "execution_count": 3
        }
      ]
    },
    {
      "cell_type": "markdown",
      "source": [
        "Nuestro conjunto de datos cuenta con 119390 registros de los cuales 488 registros tienen un valor nulo en la columna **Country**.\n",
        "\n",
        "Por lo que debemos hacer algo con esos registros, en este caso opté por borrarlos ya que no influye demasiado en la muestra."
      ],
      "metadata": {
        "id": "IbdlryPMQ63b"
      }
    },
    {
      "cell_type": "code",
      "source": [
        "H1df.info()\n",
        "H1df.dropna(inplace=True)\n",
        "\n",
        "print(\"\\nRegistros nulos detectados:\\n\")\n",
        "H1df.isna().sum()"
      ],
      "metadata": {
        "colab": {
          "base_uri": "https://localhost:8080/"
        },
        "id": "nzf3GjkmTDZS",
        "outputId": "82e819a7-bd6f-4b4a-c636-32de63aa47bb"
      },
      "execution_count": 4,
      "outputs": [
        {
          "output_type": "stream",
          "name": "stdout",
          "text": [
            "<class 'pandas.core.frame.DataFrame'>\n",
            "Int64Index: 119390 entries, 0 to 79329\n",
            "Data columns (total 31 columns):\n",
            " #   Column                       Non-Null Count   Dtype  \n",
            "---  ------                       --------------   -----  \n",
            " 0   IsCanceled                   119390 non-null  int64  \n",
            " 1   LeadTime                     119390 non-null  int64  \n",
            " 2   ArrivalDateYear              119390 non-null  int64  \n",
            " 3   ArrivalDateMonth             119390 non-null  object \n",
            " 4   ArrivalDateWeekNumber        119390 non-null  int64  \n",
            " 5   ArrivalDateDayOfMonth        119390 non-null  int64  \n",
            " 6   StaysInWeekendNights         119390 non-null  int64  \n",
            " 7   StaysInWeekNights            119390 non-null  int64  \n",
            " 8   Adults                       119390 non-null  int64  \n",
            " 9   Children                     119386 non-null  float64\n",
            " 10  Babies                       119390 non-null  int64  \n",
            " 11  Meal                         119390 non-null  object \n",
            " 12  Country                      118902 non-null  object \n",
            " 13  MarketSegment                119390 non-null  object \n",
            " 14  DistributionChannel          119390 non-null  object \n",
            " 15  IsRepeatedGuest              119390 non-null  int64  \n",
            " 16  PreviousCancellations        119390 non-null  int64  \n",
            " 17  PreviousBookingsNotCanceled  119390 non-null  int64  \n",
            " 18  ReservedRoomType             119390 non-null  object \n",
            " 19  AssignedRoomType             119390 non-null  object \n",
            " 20  BookingChanges               119390 non-null  int64  \n",
            " 21  DepositType                  119390 non-null  object \n",
            " 22  Agent                        119390 non-null  object \n",
            " 23  Company                      119390 non-null  object \n",
            " 24  DaysInWaitingList            119390 non-null  int64  \n",
            " 25  CustomerType                 119390 non-null  object \n",
            " 26  ADR                          119390 non-null  float64\n",
            " 27  RequiredCarParkingSpaces     119390 non-null  int64  \n",
            " 28  TotalOfSpecialRequests       119390 non-null  int64  \n",
            " 29  ReservationStatus            119390 non-null  object \n",
            " 30  ReservationStatusDate        119390 non-null  object \n",
            "dtypes: float64(2), int64(16), object(13)\n",
            "memory usage: 29.1+ MB\n",
            "\n",
            "Registros nulos detectados:\n",
            "\n"
          ]
        },
        {
          "output_type": "execute_result",
          "data": {
            "text/plain": [
              "IsCanceled                     0\n",
              "LeadTime                       0\n",
              "ArrivalDateYear                0\n",
              "ArrivalDateMonth               0\n",
              "ArrivalDateWeekNumber          0\n",
              "ArrivalDateDayOfMonth          0\n",
              "StaysInWeekendNights           0\n",
              "StaysInWeekNights              0\n",
              "Adults                         0\n",
              "Children                       0\n",
              "Babies                         0\n",
              "Meal                           0\n",
              "Country                        0\n",
              "MarketSegment                  0\n",
              "DistributionChannel            0\n",
              "IsRepeatedGuest                0\n",
              "PreviousCancellations          0\n",
              "PreviousBookingsNotCanceled    0\n",
              "ReservedRoomType               0\n",
              "AssignedRoomType               0\n",
              "BookingChanges                 0\n",
              "DepositType                    0\n",
              "Agent                          0\n",
              "Company                        0\n",
              "DaysInWaitingList              0\n",
              "CustomerType                   0\n",
              "ADR                            0\n",
              "RequiredCarParkingSpaces       0\n",
              "TotalOfSpecialRequests         0\n",
              "ReservationStatus              0\n",
              "ReservationStatusDate          0\n",
              "dtype: int64"
            ]
          },
          "metadata": {},
          "execution_count": 4
        }
      ]
    },
    {
      "cell_type": "markdown",
      "source": [
        "# Eliminar variables insignificantes\n",
        "\n",
        "A mi consideración borré las siguientes variables que a mi parecer no presentan tanta relevancia para la creación de mis modelos y sus predicciones. Las variables eliminadas son las siguientes:\n",
        "* ArrivalDateYear\n",
        "* ArrivalDateWeekNumber\n",
        "* Agent\n",
        "* Company\n",
        "* DistributionChannel\n",
        "* ReservationStatusDate\n",
        "* StaysInWeekendNights"
      ],
      "metadata": {
        "id": "b0ILiJAiSXZE"
      }
    },
    {
      "cell_type": "code",
      "source": [
        "H1df.drop(columns = ['ArrivalDateYear', 'Agent', 'Company','ReservationStatusDate', 'DistributionChannel', 'ArrivalDateWeekNumber', 'StaysInWeekendNights'], inplace = True)"
      ],
      "metadata": {
        "id": "7gPT6Dq4Tr5J"
      },
      "execution_count": 5,
      "outputs": []
    },
    {
      "cell_type": "markdown",
      "source": [
        "# División de las varibles\n",
        "Aquí lo único que hice fue dividir el conjunto de datos en las variables independientes y la dependiente. En este caso mi única variable dependiente es la columna **IsCanceled** que nos indica si la reservación se canceló o no, mientras que el resto de columnas serán mis variables independientes."
      ],
      "metadata": {
        "id": "DRFZNkd9TGuc"
      }
    },
    {
      "cell_type": "code",
      "source": [
        "X = H1df.drop(columns = ['IsCanceled']) #Variables independientes\n",
        "y = H1df.IsCanceled #Variable dependiente"
      ],
      "metadata": {
        "id": "fn_Z1LSTTEkd"
      },
      "execution_count": 6,
      "outputs": []
    },
    {
      "cell_type": "markdown",
      "source": [
        "Debido a que tenemos variables categóricas (son de tipo objeto) debemos transformarlas a un tipo numérico para que nuestros modelos puedan procesarlas sin problemas.\n",
        "\n",
        "Para ello haremos uso de la librería **One Hot Encoder** que se encargará de hacer la transformación de las variables. También haremos uso de la librería **make_column_transformer** qué hará el proceso todavía más fácil pues no tendremos que hacer manualmente todas las transformaciones sino que esta librería lo realizará todo, ahora únicamente debemos pasarle a esta librería qué método utilizar y cuales son las columnas categóricas."
      ],
      "metadata": {
        "id": "0-_MGmfYUcp9"
      }
    },
    {
      "cell_type": "code",
      "source": [
        "column_transformer = make_column_transformer(\n",
        "    (OneHotEncoder(),['Meal', 'ReservationStatus', 'Country', 'ArrivalDateMonth', 'MarketSegment', 'DepositType', 'CustomerType', 'ReservedRoomType', 'AssignedRoomType']), remainder = 'passthrough'\n",
        "    )"
      ],
      "metadata": {
        "id": "E1Z7DogcTGR2"
      },
      "execution_count": 7,
      "outputs": []
    },
    {
      "cell_type": "markdown",
      "source": [
        "Por último debemos aplicar la transformación de variables a nuestro conjunto de variables independientes con el método **fit_transform**."
      ],
      "metadata": {
        "id": "U8cDgYGUWJe-"
      }
    },
    {
      "cell_type": "code",
      "source": [
        "X = column_transformer.fit_transform(X).toarray()"
      ],
      "metadata": {
        "id": "hAYhAOl0THia"
      },
      "execution_count": 8,
      "outputs": []
    },
    {
      "cell_type": "markdown",
      "source": [
        "Con esto hecho ya tenemos nuestras variables listas para realizar el modelado y las predicciones."
      ],
      "metadata": {
        "id": "GVskwkNuWPhp"
      }
    },
    {
      "cell_type": "code",
      "source": [
        "X"
      ],
      "metadata": {
        "colab": {
          "base_uri": "https://localhost:8080/"
        },
        "id": "qHwkqxDUV-MW",
        "outputId": "67ba5ba2-b65c-49ab-8d07-075562903236"
      },
      "execution_count": 9,
      "outputs": [
        {
          "output_type": "execute_result",
          "data": {
            "text/plain": [
              "array([[  1.  ,   0.  ,   0.  , ...,   0.  ,   0.  ,   0.  ],\n",
              "       [  1.  ,   0.  ,   0.  , ...,   0.  ,   0.  ,   0.  ],\n",
              "       [  1.  ,   0.  ,   0.  , ...,  75.  ,   0.  ,   0.  ],\n",
              "       ...,\n",
              "       [  1.  ,   0.  ,   0.  , ..., 157.71,   0.  ,   4.  ],\n",
              "       [  1.  ,   0.  ,   0.  , ..., 104.4 ,   0.  ,   0.  ],\n",
              "       [  0.  ,   0.  ,   1.  , ..., 151.2 ,   0.  ,   2.  ]])"
            ]
          },
          "metadata": {},
          "execution_count": 9
        }
      ]
    },
    {
      "cell_type": "code",
      "source": [
        "y[:3]"
      ],
      "metadata": {
        "colab": {
          "base_uri": "https://localhost:8080/"
        },
        "id": "9mDFERH5X53V",
        "outputId": "18af7cad-5a2b-4519-9c68-cab385d948e8"
      },
      "execution_count": 10,
      "outputs": [
        {
          "output_type": "execute_result",
          "data": {
            "text/plain": [
              "0    0\n",
              "1    0\n",
              "2    0\n",
              "Name: IsCanceled, dtype: int64"
            ]
          },
          "metadata": {},
          "execution_count": 10
        }
      ]
    },
    {
      "cell_type": "markdown",
      "source": [
        "# Division de las variables en conjunto de entrenamiento y prueba\n",
        "\n",
        "Una vez tenemos nuestras variables toca dividirlas en dos conjuntos los cuales serán:\n",
        "* Conjunto de entrenamiento: Nos ayudará a entrenar el modelo con un tamaño del 70%.\n",
        "* Conjunto de pruebas: Nos ayudará a validar las predicciones de nuestro modelo con un tamaño del 30%. \n"
      ],
      "metadata": {
        "id": "15qsWgMiWX0F"
      }
    },
    {
      "cell_type": "code",
      "source": [
        "X_train, X_test, y_train, y_test = train_test_split(X, y, test_size = .3)"
      ],
      "metadata": {
        "id": "d5AhgkbTX9TA"
      },
      "execution_count": 11,
      "outputs": []
    },
    {
      "cell_type": "markdown",
      "source": [
        "# Estandarización de las variables\n",
        "Para no tener errores o métricas muy diferentes en nuestros datos lo que haremos es escalar todas las variables para tener más o menos la misma métrica."
      ],
      "metadata": {
        "id": "77n81pzAYdrM"
      }
    },
    {
      "cell_type": "code",
      "source": [
        "scaler = StandardScaler()\n",
        "\n",
        "X_train = scaler.fit_transform(X_train)\n",
        "X_test = scaler.transform(X_test)"
      ],
      "metadata": {
        "id": "dFQ68RJXYl0O"
      },
      "execution_count": 12,
      "outputs": []
    },
    {
      "cell_type": "markdown",
      "source": [
        "# Regresión Logística\n",
        "\n",
        "La Regresión Logística es un Algoritmo Supervisado y se utiliza para clasificación, con lo que podremos predecir si un cliente cancelará su reservación o no."
      ],
      "metadata": {
        "id": "Bh--bGEVZIY9"
      }
    },
    {
      "cell_type": "code",
      "source": [
        "logistic_model = LogisticRegression()\n",
        "logistic_model.fit(X_train, y_train)\n",
        "\n",
        "predict = logistic_model.predict(X_test)\n",
        "logistic_model.score(X_test, y_test)"
      ],
      "metadata": {
        "colab": {
          "base_uri": "https://localhost:8080/"
        },
        "id": "H-QClTs1aQn_",
        "outputId": "2f182970-d91c-4ae6-fad0-6e47ae011c8a"
      },
      "execution_count": 13,
      "outputs": [
        {
          "output_type": "execute_result",
          "data": {
            "text/plain": [
              "1.0"
            ]
          },
          "metadata": {},
          "execution_count": 13
        }
      ]
    },
    {
      "cell_type": "markdown",
      "source": [
        "Como podemos ver nuestro modelo sorprendentemente tiene un acierto en las predicciones del 100%, cosa que nos debería hacer levantar una ceja ya que extrañamente un modelo llega a tan alto porcentaje.\n",
        "\n",
        "Esto quizá es un síntoma de sobreentrenamiento."
      ],
      "metadata": {
        "id": "DjpQz0TydvoN"
      }
    },
    {
      "cell_type": "markdown",
      "source": [
        "# Regresión Lineal\n",
        "\n",
        "El único error en el que puedo pensar es que en teoría la regresión lineal solo la debemos emplear cuando nuestra variable dependiente es de continua es decir es numérica, pero en nuestro caso la variable dependiente es categórica o binaria por lo que no tiene mucho sentido aplicar un modelo de regresión lineal para este problema.\n"
      ],
      "metadata": {
        "id": "AEnMkS7Ee_Mz"
      }
    },
    {
      "cell_type": "code",
      "source": [
        "linear_model = LinearRegression()\n",
        "\n",
        "X = H1df.drop(columns = ['IsCanceled'])\n",
        "y = H1df.IsCanceled\n",
        "\n",
        "X = column_transformer.fit_transform(X).toarray()\n",
        "\n",
        "X_train, X_test, y_train, y_test = train_test_split(X, y, test_size = .3)\n",
        "\n",
        "X_train = scaler.fit_transform(X_train)\n",
        "X_test = scaler.transform(X_test)\n",
        "\n",
        "linear_model.fit(X_train, y_train)\n",
        "\n",
        "predict = linear_model.predict(X_test)\n",
        "linear_model.score(X_test, y_test)"
      ],
      "metadata": {
        "colab": {
          "base_uri": "https://localhost:8080/"
        },
        "id": "mnqbiqNoarr2",
        "outputId": "fb8cf3ce-6beb-44ec-ff53-c8ee1bf721eb"
      },
      "execution_count": 14,
      "outputs": [
        {
          "output_type": "execute_result",
          "data": {
            "text/plain": [
              "0.9971261136457124"
            ]
          },
          "metadata": {},
          "execution_count": 14
        }
      ]
    },
    {
      "cell_type": "markdown",
      "source": [
        "# Bosque aleatorio\n",
        "El clasificador de bosque aleatorio crea un conjunto de árboles de decisión a partir de un subconjunto seleccionado aleatoriamente del conjunto de entrenamiento. Es básicamente un conjunto de árboles de decisión (DT) de un subconjunto seleccionado aleatoriamente del conjunto de entrenamiento y luego recoge los votos de diferentes árboles de decisión para decidir la predicción final."
      ],
      "metadata": {
        "id": "s-6Gj_KBlhDa"
      }
    },
    {
      "cell_type": "code",
      "source": [
        "randomforest_model = RandomForestClassifier()\n",
        "\n",
        "X = H1df.drop(columns = ['IsCanceled'])\n",
        "y = H1df.IsCanceled\n",
        "\n",
        "X = column_transformer.fit_transform(X).toarray()\n",
        "\n",
        "X_train, X_test, y_train, y_test = train_test_split(X, y, test_size = .3)\n",
        "\n",
        "X_train = scaler.fit_transform(X_train)\n",
        "X_test = scaler.transform(X_test)\n",
        "\n",
        "randomforest_model.fit(X_train, y_train)\n",
        "\n",
        "predict = randomforest_model.predict(X_test)\n",
        "randomforest_model.score(X_test, y_test)"
      ],
      "metadata": {
        "colab": {
          "base_uri": "https://localhost:8080/"
        },
        "id": "q4V0SO2BnmhG",
        "outputId": "e72dd5d2-9e83-4c37-ed18-85eb24230313"
      },
      "execution_count": 15,
      "outputs": [
        {
          "output_type": "execute_result",
          "data": {
            "text/plain": [
              "1.0"
            ]
          },
          "metadata": {},
          "execution_count": 15
        }
      ]
    },
    {
      "cell_type": "markdown",
      "source": [
        "# Implementación del método SAFE y regresión logística\n",
        "Según a como entiendo después de aplicar el modelo de bosque aleatorio debemos emplear sus predicciones en el método SAFE para posteriormente hacer nuevamente la regresión logística con los datos transformados."
      ],
      "metadata": {
        "id": "aPKxB_h1lqAw"
      }
    },
    {
      "cell_type": "code",
      "source": [
        "safe_transformer = SafeTransformer(model=randomforest_model, penalty=1)\n",
        "\n",
        "safe_transformer = safe_transformer.fit(pd.DataFrame(X_train))\n",
        "\n",
        "X_train_transformed = safe_transformer.transform(X_train)\n",
        "\n",
        "X_test_transformed = safe_transformer.transform(X_test)\n",
        "\n",
        "model_transformed = LogisticRegression()\n",
        "\n",
        "model_transformed = model_transformed.fit(X_train_transformed, y_train)\n",
        "\n",
        "surrogate_predictions = model_transformed.predict(X_test_transformed)"
      ],
      "metadata": {
        "id": "_HldlByeftY9"
      },
      "execution_count": null,
      "outputs": []
    }
  ]
}